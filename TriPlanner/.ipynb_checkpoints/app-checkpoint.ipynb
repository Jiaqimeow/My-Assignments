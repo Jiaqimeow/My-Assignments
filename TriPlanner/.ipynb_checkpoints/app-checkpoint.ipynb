{
 "cells": [
  {
   "cell_type": "code",
   "execution_count": null,
   "id": "e9ebe372",
   "metadata": {},
   "outputs": [
    {
     "name": "stdout",
     "output_type": "stream",
     "text": [
      " * Serving Flask app '__main__'\n",
      " * Debug mode: off\n"
     ]
    },
    {
     "name": "stderr",
     "output_type": "stream",
     "text": [
      "WARNING: This is a development server. Do not use it in a production deployment. Use a production WSGI server instead.\n",
      " * Running on http://localhost:9003\n",
      "Press CTRL+C to quit\n"
     ]
    }
   ],
   "source": [
    "################################################################################################################\n",
    "\n",
    "# EXTERNAL MODULES TO BE USED\n",
    "\n",
    "################################################################################################################\n",
    "\n",
    "from flask import Flask\n",
    "\n",
    "app = Flask(__name__)\n",
    "\n",
    "\n",
    "################################################################################################################\n",
    "\n",
    "# WEB ROUTES FOR CONTROLLING ACCESS TO TEMPLATE VIEWS\n",
    "\n",
    "################################################################################################################\n",
    "  \n",
    "@app.route(\"/\")\n",
    "def index():\n",
    "    return render_template('index.html')\n",
    "\n",
    "@app.route(\"/explore\")\n",
    "def explore():\n",
    "    return render_template('explore.html')\n",
    "\n",
    "@app.route(\"/tips\")\n",
    "def tips():\n",
    "    return render_template('tips.html')\n",
    "\n",
    "@app.route(\"/visa\")\n",
    "def visa():\n",
    "    return render_template('visa.html')\n",
    "\n",
    "@app.route(\"/login\")\n",
    "def login():\n",
    "    return render_template('login.html')\n",
    "\n",
    "@app.route(\"/register\")\n",
    "def register():\n",
    "    return render_template('register.html')\n",
    "\n",
    "@app.route(\"/about\")\n",
    "def about():\n",
    "    return render_template('about.html')\n",
    "\n",
    "################################################################################################################\n",
    "\n",
    "# ERROR HANDLERS\n",
    "\n",
    "################################################################################################################\n",
    "\n",
    "@app.errorhandler(404)\n",
    "def page_not_found(e):\n",
    "    # note that we set the 404 status explicitly\n",
    "    return \"Error 404 - page not found.\"\n",
    "\n",
    "################################################################################################################\n",
    "\n",
    "# APPLICATION TEST RUN AT PORT 9001\n",
    "\n",
    "################################################################################################################\n",
    "\n",
    "if __name__ == '__main__':\n",
    "    app.run('localhost', 9003)"
   ]
  },
  {
   "cell_type": "code",
   "execution_count": null,
   "id": "e009e2d7",
   "metadata": {},
   "outputs": [],
   "source": []
  }
 ],
 "metadata": {
  "kernelspec": {
   "display_name": "Python 3 (ipykernel)",
   "language": "python",
   "name": "python3"
  },
  "language_info": {
   "codemirror_mode": {
    "name": "ipython",
    "version": 3
   },
   "file_extension": ".py",
   "mimetype": "text/x-python",
   "name": "python",
   "nbconvert_exporter": "python",
   "pygments_lexer": "ipython3",
   "version": "3.9.12"
  }
 },
 "nbformat": 4,
 "nbformat_minor": 5
}
